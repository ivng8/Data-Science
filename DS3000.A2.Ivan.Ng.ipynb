{
 "cells": [
  {
   "cell_type": "markdown",
   "metadata": {},
   "source": [
    "# DS 3000 - Assignment 2\n",
    "\n",
    "**Student Name**: [Ivan Ng]\n",
    "\n",
    "**Date**: [1/20/2024]\n",
    "\n",
    "\n",
    "### Submission Instructions\n",
    "Submit this `ipynb` file to canvas.\n",
    "\n",
    "The `ipynb` format stores outputs from the last time you ran the notebook.  (When you open a notebook it has the figures and outputs of the last time you ran it too).  To ensure that your submitted `ipynb` file represents your latest code, make sure to give a fresh run `Kernel > Restart & Run All` just before uploading the `ipynb` file to Canvas.\n",
    "\n",
    "### Academic Integrity\n",
    "\n",
    "**Writing your homework is an individual effort.**  You may discuss general python problems with other students but under no circumstances should you observe another student's code which was written for this assignment, from this year or past years.  Pop into office hours or DM us in MS Teams if you have a specific question about your work or if you would like another pair of eyes or talk through your code.\n",
    "\n",
    "Don't forget to cite websites which helped you solve a problem in a unique way.  You can do this in markdown near the code or with a simple one-line comment. You do not need to cite the official python documentation.\n",
    "\n",
    "**Documentation / style counts for credit**  Please refer to the Pep-8 style, to improve the readability and consistency of your Python code. For more information, read the following article [How to Write Beautiful Python Code With PEP 8](https://realpython.com/python-pep8/) or ask your TA's for tips.\n",
    "\n",
    "**NOTE:<span style='color:red'> Write python expressions to answer ALL questions below and ensure that you use the `print()` function to display the output.</span>** Each question should be answered in a new code cell. For example, your solution for question 1.1 should be in a different code cell from your solution for question 1.2."
   ]
  },
  {
   "cell_type": "markdown",
   "metadata": {},
   "source": [
    "## Question 1: Fermat's Last Theorem (20 pts)\n",
    "[Fermat's Last Theorem](https://en.wikipedia.org/wiki/Fermat%27s_Last_Theorem) states that there are no three positive integers a, b, and c such that a<sup>n</sup> + b<sup>n</sup> = c<sup>n</sup>, for any values of n greater than 2. \n",
    "\n",
    "\n",
    "You are required to create a function called `validate_fermat()` which takes `a`,`b`,`c` and `n` as input. Inside the function, write code that checks if Fermat's last theorem is True. \n",
    "\n",
    "**Requirements:**\n",
    "- Your program should ask the user to enter values for a, b, c, and n. `Hint:` Use the `input()` function.\n",
    "- Pass the user's input values to your function. \n",
    "- Ensure that the logic inside your function checks the following:\n",
    "    - if the user entered positive values for a, b, and c. \n",
    "    - if the value that was entered for `n` is greater than 2. `Note:` You can assume that `n` is an integer.\n",
    "    - if a<sup>n</sup> + b<sup>n</sup> = c<sup>n</sup>. If the condition is `True`, your program should print 'Fermat was wrong!'. Otherwise, the program should print 'Fermat’s Last Theorem remains True!'.\n",
    "    \n",
    "**`Note:` Do not use any built-in functions to perform your calculations and always display user-friendly messages.**\n"
   ]
  },
  {
   "cell_type": "code",
   "execution_count": null,
   "metadata": {},
   "outputs": [],
   "source": [
    "#Write your python code to answer question 1"
   ]
  },
  {
   "cell_type": "code",
   "execution_count": 10,
   "metadata": {},
   "outputs": [],
   "source": [
    "def validate_fermat():\n",
    "    input_ints = input(\"Enter 4 ints separated by spaces in order of a, b, c, n: \")\n",
    "    list_ints = input_ints.split()\n",
    "    if len(list_ints) != 4:\n",
    "        print(\"Please give 4 values\")\n",
    "    try:\n",
    "        integers = [int(num) for num in list_ints]\n",
    "        for i in range(3):\n",
    "            if integers[i] < 1:\n",
    "                print(\"a, b, or c is not a positive integer\")\n",
    "        if integers[3] < 3:\n",
    "            print(\"n is not greater than 2\")\n",
    "        if integers[0] ** integers[3] + integers[1] ** integers[3] == integers[2] ** integers[3]:\n",
    "            print(\"Fermat was wrong!\")\n",
    "        else:\n",
    "            print(\"Fermat's Last Theorem remains True!\")\n",
    "    except ValueError:\n",
    "        print(\"Not integer inputs\")"
   ]
  },
  {
   "cell_type": "code",
   "execution_count": 11,
   "metadata": {},
   "outputs": [
    {
     "name": "stdout",
     "output_type": "stream",
     "text": [
      "Enter 4 ints separated by spaces in order of a, b, c, n: 1 2 3 4\n",
      "Fermat's Last Theorem remains True!\n"
     ]
    }
   ],
   "source": [
    "validate_fermat()"
   ]
  },
  {
   "cell_type": "code",
   "execution_count": null,
   "metadata": {},
   "outputs": [],
   "source": []
  },
  {
   "cell_type": "markdown",
   "metadata": {},
   "source": [
    "## Question 2: The Guessing Game (30 pts + 2 bonus pts)\n",
    "Write a program that plays the game of **Guess the Number**. Your program should first choose the number to be guessed by selecting an integer at random between the range of 1 to 50 (inclusive)<sup>†</sup>.  The program should then display the following message:\n",
    "\n",
    " \n",
    "```\n",
    "I'm thinking of a number between 1 and 50. Can you guess the number?\n",
    "Enter your first guess: \n",
    "```\n",
    "\n",
    "The program should allow the user to enter their selected number. If the guess is less than the randomly generated number, display:\n",
    "\n",
    "```\n",
    "Your guess is too low. Try again! \n",
    "```\n",
    "\n",
    "The user should then be allowed to make another attempt. If the guess is greater than the randomly generated number, display:\n",
    "\n",
    "```\n",
    "Your guess is too high. Try again! \n",
    "```\n",
    "\n",
    "If the user guessed the correct number, your program should output the following message and then terminate:\n",
    "```\n",
    "Thats correct!\n",
    "```\n",
    "\n",
    "The program should give the user a maximum of 10 attempts to guess the correct number (Hint: use a loop).\n",
    "\n",
    "\n",
    "<sup>†</sup>**Tip**: you can generate pseudo-random numbers using the `randint()` function.\n",
    "\n",
    "BONUS: <span style='color:red'> I'll give an additional 2 bonus points, if you can keep track of the number of guesses that the user made and display a friendly message notifying the user about the number of attempts they made. Only display this message to the user when they guessed the correct number.</span>"
   ]
  },
  {
   "cell_type": "code",
   "execution_count": 16,
   "metadata": {},
   "outputs": [],
   "source": [
    "#Write your python code to answer question 2"
   ]
  },
  {
   "cell_type": "code",
   "execution_count": 17,
   "metadata": {},
   "outputs": [],
   "source": [
    "import random\n",
    "\n",
    "def guess_game():\n",
    "    counter = 0\n",
    "    answer = random.randint(1, 50)\n",
    "    while counter < 11:\n",
    "        user_input = input(\"I'm thinking of a number between 1 and 50. Can you guess the number? You have used \" + str(counter) + \" guesses: \")\n",
    "        try:\n",
    "            if int(user_input) > answer:\n",
    "                print(\"Your guess is too high. Try again!\")\n",
    "                counter += 1\n",
    "            elif int(user_input) < answer:\n",
    "                print(\"Your guess is too low. Try again!\")\n",
    "                counter += 1\n",
    "            else:\n",
    "                print(\"Thats correct!\")\n",
    "        except ValueError:\n",
    "            print(\"Not integer value\")"
   ]
  },
  {
   "cell_type": "code",
   "execution_count": null,
   "metadata": {},
   "outputs": [
    {
     "name": "stdout",
     "output_type": "stream",
     "text": [
      "I'm thinking of a number between 1 and 50. Can you guess the number? You have used 0 guesses: 1\n",
      "Your guess is too low. Try again!\n",
      "I'm thinking of a number between 1 and 50. Can you guess the number? You have used 1 guesses: 2\n",
      "Your guess is too low. Try again!\n",
      "I'm thinking of a number between 1 and 50. Can you guess the number? You have used 2 guesses: 7\n",
      "Your guess is too low. Try again!\n",
      "I'm thinking of a number between 1 and 50. Can you guess the number? You have used 3 guesses: 25\n",
      "Your guess is too low. Try again!\n",
      "I'm thinking of a number between 1 and 50. Can you guess the number? You have used 4 guesses: 40\n",
      "Your guess is too low. Try again!\n",
      "I'm thinking of a number between 1 and 50. Can you guess the number? You have used 5 guesses: 45\n",
      "Thats correct!\n"
     ]
    }
   ],
   "source": [
    "guess_game()"
   ]
  }
 ],
 "metadata": {
  "kernelspec": {
   "display_name": "Python 3 (ipykernel)",
   "language": "python",
   "name": "python3"
  },
  "language_info": {
   "codemirror_mode": {
    "name": "ipython",
    "version": 3
   },
   "file_extension": ".py",
   "mimetype": "text/x-python",
   "name": "python",
   "nbconvert_exporter": "python",
   "pygments_lexer": "ipython3",
   "version": "3.11.5"
  }
 },
 "nbformat": 4,
 "nbformat_minor": 4
}
