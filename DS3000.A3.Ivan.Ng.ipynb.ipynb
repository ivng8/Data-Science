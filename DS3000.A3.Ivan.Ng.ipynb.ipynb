{
 "cells": [
  {
   "cell_type": "markdown",
   "metadata": {},
   "source": [
    "# DS 3000 - Assignment [3]\n",
    "\n",
    "**Student Name**: [Ivan Ng]\n",
    "\n",
    "**Date**: [1/28/2024]\n",
    "\n",
    "\n",
    "### Submission Instructions\n",
    "Submit this `ipynb` file to canvas.\n",
    "\n",
    "The `ipynb` format stores outputs from the last time you ran the notebook.  (When you open a notebook it has the figures and outputs of the last time you ran it too).  To ensure that your submitted `ipynb` file represents your latest code, make sure to give a fresh run `Kernel > Restart & Run All` just before uploading the `ipynb` file to Canvas.\n",
    "\n",
    "### Academic Integrity\n",
    "\n",
    "**Writing your homework is an individual effort.**  You may discuss general python problems with other students but under no circumstances should you observe another student's code which was written for this assignment, from this year or past years.  Pop into office hours or DM us in MS Teams if you have a specific question about your work or if you would like another pair of eyes or talk through your code.\n",
    "\n",
    "Don't forget to cite websites which helped you solve a problem in a unique way.  You can do this in markdown near the code or with a simple one-line comment. You do not need to cite the official python documentation.\n",
    "\n",
    "**Documentation / style counts for credit**  Please refer to the Pep-8 style, to improve the readability and consistency of your Python code. For more information, read the following article [How to Write Beautiful Python Code With PEP 8](https://realpython.com/python-pep8/) or ask your TA's for tips.\n",
    "\n",
    "**NOTE:<span style='color:red'> Write python expressions to answer ALL questions below and ensure that you use the `print()` function to display the output.</span>** Each question should be answered in a new code cell. For example, your solution for question 1.1 should be in a different code cell from your solution for question 1.2."
   ]
  },
  {
   "cell_type": "markdown",
   "metadata": {},
   "source": [
    "## Question 1: \n",
    "\n",
    "TODO: Copy/Paste the instructions for this question.\n"
   ]
  },
  {
   "cell_type": "code",
   "execution_count": 1,
   "metadata": {},
   "outputs": [
    {
     "data": {
      "text/plain": [
       "\"\\nQuestion 1: Analyzing Numeric Data (50 pts)\\n\\nThe data pertains to the risk factors associated with low infant birth weight**.\\nThe data contains the following fields:\\n\\nlow\\nindicator of birth weight less than 2.5 kg.\\n\\nage\\nmother's age in years.\\n\\nlwt\\nmother's weight in pounds at last menstrual period.\\n\\nrace\\nmother's race (1 = white, 2 = black, 3 = other).\\n\\nsmoke\\nsmoking status during pregnancy (0 = false, 1 = true).\\n\\nptl\\nnumber of previous premature labors.\\n\\nht\\nhistory of hypertension (0 = false, 1 = true).\\n\\nui\\npresence of uterine irritability.\\n\\nftv\\nnumber of physician visits during the first trimester.\\n\\nbwt\\nbirth weight in grams.\\n\\nWrite Python code to answer the questions below and ensure that you round all numeric calculations\\n(i.e. floats) to 2 decimal places (unless indicated otherwise).\\nTip: you will need to filter for conditions that are true before performing certain calculations.\\n\""
      ]
     },
     "execution_count": 1,
     "metadata": {},
     "output_type": "execute_result"
    }
   ],
   "source": [
    "\"\"\"\n",
    "Question 1: Analyzing Numeric Data (50 pts)\n",
    "\n",
    "The data pertains to the risk factors associated with low infant birth weight**.\n",
    "The data contains the following fields:\n",
    "\n",
    "low\n",
    "indicator of birth weight less than 2.5 kg.\n",
    "\n",
    "age\n",
    "mother's age in years.\n",
    "\n",
    "lwt\n",
    "mother's weight in pounds at last menstrual period.\n",
    "\n",
    "race\n",
    "mother's race (1 = white, 2 = black, 3 = other).\n",
    "\n",
    "smoke\n",
    "smoking status during pregnancy (0 = false, 1 = true).\n",
    "\n",
    "ptl\n",
    "number of previous premature labors.\n",
    "\n",
    "ht\n",
    "history of hypertension (0 = false, 1 = true).\n",
    "\n",
    "ui\n",
    "presence of uterine irritability.\n",
    "\n",
    "ftv\n",
    "number of physician visits during the first trimester.\n",
    "\n",
    "bwt\n",
    "birth weight in grams.\n",
    "\n",
    "Write Python code to answer the questions below and ensure that you round all numeric calculations\n",
    "(i.e. floats) to 2 decimal places (unless indicated otherwise).\n",
    "Tip: you will need to filter for conditions that are true before performing certain calculations.\n",
    "\"\"\""
   ]
  },
  {
   "cell_type": "code",
   "execution_count": 2,
   "metadata": {},
   "outputs": [
    {
     "name": "stdout",
     "output_type": "stream",
     "text": [
      "[[   0   19  182 ...    1    0 2523]\n",
      " [   0   33  155 ...    0    3 2551]\n",
      " [   0   20  105 ...    0    1 2557]\n",
      " ...\n",
      " [   1   23   94 ...    0    0 2495]\n",
      " [   1   17  142 ...    0    0 2495]\n",
      " [   1   21  130 ...    0    3 2495]]\n"
     ]
    }
   ],
   "source": [
    "import numpy as np\n",
    "# (5 pts) Load the attached data into a numpy array and display the dimensions of the data: birthwt.csv\n",
    "file_name = \"birthwt.csv\"\n",
    "\n",
    "with open(file_name, mode='r') as file:\n",
    "    file.readline()\n",
    "    data_list = []\n",
    "\n",
    "    for line in file:\n",
    "        values = line.strip().split(',')\n",
    "        int_values = [int(value) for value in values]\n",
    "        data_list.append(int_values)\n",
    "\n",
    "    data_array = np.array(data_list)\n",
    "    print(data_array)"
   ]
  },
  {
   "cell_type": "code",
   "execution_count": 3,
   "metadata": {},
   "outputs": [
    {
     "name": "stdout",
     "output_type": "stream",
     "text": [
      "Range: 31\n",
      "Minimum age: 14\n",
      "Average age: 23.24\n",
      "Maximum age: 45\n"
     ]
    }
   ],
   "source": [
    "# (3 pts) What is the age range of mothers in this dataset?\n",
    "# Note: the range should include: the minimum, average and maximum age. Ensure that the ages are\n",
    "# represented as whole numbers.\n",
    "age_column = data_array[:, 1]\n",
    "\n",
    "min_age = np.min(age_column)\n",
    "avg_age = round(np.mean(age_column), 2)\n",
    "max_age = np.max(age_column)\n",
    "range_age = max_age - min_age\n",
    "\n",
    "print(\"Range:\", range_age)\n",
    "print(\"Minimum age:\", min_age)\n",
    "print(\"Average age:\", avg_age)\n",
    "print(\"Maximum age:\", max_age)"
   ]
  },
  {
   "cell_type": "code",
   "execution_count": 4,
   "metadata": {},
   "outputs": [
    {
     "name": "stdout",
     "output_type": "stream",
     "text": [
      "Total smoking mothers: 74\n"
     ]
    }
   ],
   "source": [
    "# (2 pts) How many mothers smoked during pregnancy?\n",
    "smoke_column = data_array[:, 4]\n",
    "\n",
    "total_smokers = np.sum(smoke_column)\n",
    "\n",
    "print(\"Total smoking mothers:\", total_smokers)"
   ]
  },
  {
   "cell_type": "code",
   "execution_count": 5,
   "metadata": {},
   "outputs": [
    {
     "name": "stdout",
     "output_type": "stream",
     "text": [
      "Total mothers with hypertension: 12\n"
     ]
    }
   ],
   "source": [
    "# (2 pts) How many mothers had a history of hypertension?\n",
    "ht_column = data_array[:, 6]\n",
    "\n",
    "total_ht = np.sum(ht_column)\n",
    "\n",
    "print(\"Total mothers with hypertension:\", total_ht)"
   ]
  },
  {
   "cell_type": "code",
   "execution_count": 6,
   "metadata": {},
   "outputs": [
    {
     "name": "stdout",
     "output_type": "stream",
     "text": [
      "Total mothers with 1+ premature births: 30\n"
     ]
    }
   ],
   "source": [
    "# (3 pts) How many mothers have 1 or more premature births?\n",
    "ptl_column = data_array[:, 5]\n",
    "\n",
    "total_ptl = 0\n",
    "\n",
    "for value in ptl_column:\n",
    "    if value > 0:\n",
    "        total_ptl += 1\n",
    "        \n",
    "print(\"Total mothers with 1+ premature births:\", total_ptl)"
   ]
  },
  {
   "cell_type": "code",
   "execution_count": 7,
   "metadata": {},
   "outputs": [],
   "source": [
    "\"\"\"\n",
    "(5 pts) Create a function called convert_birthweight() that: \n",
    "    1) takes grams as input, \n",
    "    2) converts grams to pounds and ounces, and \n",
    "    3) return the converted value. \n",
    "    Use the convert_birthweight() function to convert the birth weight to pounds and ounces\n",
    "    in the questions 7-11 below.\n",
    "\"\"\"\n",
    "def convert_birthweight(grams):\n",
    "    total_ounces = round(grams / 28.3495, 2)\n",
    "    pounds = int(total_ounces // 16)\n",
    "    remainder = round(total_ounces % 16, 2)\n",
    "    return pounds, remainder"
   ]
  },
  {
   "cell_type": "code",
   "execution_count": 8,
   "metadata": {},
   "outputs": [
    {
     "name": "stdout",
     "output_type": "stream",
     "text": [
      "Average weight of babies with mothers who have had premature birth: 5 lbs and 10.07 oz\n"
     ]
    }
   ],
   "source": [
    "# (5 pts) What is the average birth weight of babies whose mothers have a history of premature birth?\n",
    "bwt_column = data_array[:, 9]\n",
    "ptl_bwt_column = []\n",
    "\n",
    "for value in ptl_column:\n",
    "    if value > 0:\n",
    "        ptl_bwt_column.append(bwt_column[value])\n",
    "        \n",
    "avg_pounds, avg_remainder = convert_birthweight(np.mean(ptl_bwt_column))\n",
    "\n",
    "print(\"Average weight of babies with mothers who have had premature birth:\", avg_pounds, \"lbs and\", avg_remainder, \"oz\")"
   ]
  },
  {
   "cell_type": "code",
   "execution_count": 9,
   "metadata": {},
   "outputs": [
    {
     "name": "stdout",
     "output_type": "stream",
     "text": [
      "Minimun weight of no smoke or hypertension: 2 lbs 4.01 oz\n",
      "Average weight of no smoke or hypertension: 6 lbs 13.01 oz\n",
      "Maximum weight of no smoke or hypertension: 11 lbs 0.02 oz\n"
     ]
    }
   ],
   "source": [
    "# (5 pts) What is the minimum, average and maximum birth weight of babies whose mother did not smoke\n",
    "# during pregnancy and do not have a history of hypertension?\n",
    "desired_bwt_column = []\n",
    "for row in data_array:\n",
    "    if row[4] + row[6] == 0:\n",
    "        desired_bwt_column.append(row[9])\n",
    "\n",
    "min_pounds, min_oz = convert_birthweight(np.min(desired_bwt_column))\n",
    "avg_pounds, avg_oz = convert_birthweight(np.mean(desired_bwt_column))\n",
    "max_pounds, max_oz = convert_birthweight(np.max(desired_bwt_column))\n",
    "\n",
    "print(\"Minimun weight of no smoke or hypertension:\", min_pounds, \"lbs\", min_oz, \"oz\")\n",
    "print(\"Average weight of no smoke or hypertension:\", avg_pounds, \"lbs\", avg_oz, \"oz\")\n",
    "print(\"Maximum weight of no smoke or hypertension:\", max_pounds, \"lbs\", max_oz, \"oz\")"
   ]
  },
  {
   "cell_type": "code",
   "execution_count": 10,
   "metadata": {},
   "outputs": [
    {
     "name": "stdout",
     "output_type": "stream",
     "text": [
      "Minimun weight of smokers: 1 lbs 9.01 oz\n",
      "Average weight of smokers: 6 lbs 1.78 oz\n",
      "Maximum weight of smokers: 9 lbs 5.49 oz\n"
     ]
    }
   ],
   "source": [
    "# (5 pts) What is the minimum, average and maximum birth weight of babies whose mothers smoked\n",
    "# during pregnancy?\n",
    "smoked_bwt_column = []\n",
    "for row in data_array:\n",
    "    if row[4] == 1:\n",
    "        smoked_bwt_column.append(row[9])\n",
    "\n",
    "smoked_min_pounds, smoked_min_oz = convert_birthweight(np.min(smoked_bwt_column))\n",
    "smoked_avg_pounds, smoked_avg_oz = convert_birthweight(np.mean(smoked_bwt_column))\n",
    "smoked_max_pounds, smoked_max_oz = convert_birthweight(np.max(smoked_bwt_column))\n",
    "\n",
    "print(\"Minimun weight of smokers:\", smoked_min_pounds, \"lbs\", smoked_min_oz, \"oz\")\n",
    "print(\"Average weight of smokers:\", smoked_avg_pounds, \"lbs\", smoked_avg_oz, \"oz\")\n",
    "print(\"Maximum weight of smokers:\", smoked_max_pounds, \"lbs\", smoked_max_oz, \"oz\")"
   ]
  },
  {
   "cell_type": "code",
   "execution_count": 11,
   "metadata": {},
   "outputs": [
    {
     "name": "stdout",
     "output_type": "stream",
     "text": [
      "Minimun weight of hypertension: 2 lbs 8.04 oz\n",
      "Average weight of hypertension: 5 lbs 9.48 oz\n",
      "Maximum weight of hypertension: 8 lbs 5.69 oz\n"
     ]
    }
   ],
   "source": [
    "# (5 pts) What is the minimum, average and maximum birth weight of babies whose mothers had a\n",
    "# history of hypertension?\n",
    "ht_bwt_column = []\n",
    "for row in data_array:\n",
    "    if row[6] == 1:\n",
    "        ht_bwt_column.append(row[9])\n",
    "\n",
    "ht_min_pounds, ht_min_oz = convert_birthweight(np.min(ht_bwt_column))\n",
    "ht_avg_pounds, ht_avg_oz = convert_birthweight(np.mean(ht_bwt_column))\n",
    "ht_max_pounds, ht_max_oz = convert_birthweight(np.max(ht_bwt_column))\n",
    "\n",
    "print(\"Minimun weight of hypertension:\", ht_min_pounds, \"lbs\", ht_min_oz, \"oz\")\n",
    "print(\"Average weight of hypertension:\", ht_avg_pounds, \"lbs\", ht_avg_oz, \"oz\")\n",
    "print(\"Maximum weight of hypertension:\", ht_max_pounds, \"lbs\", ht_max_oz, \"oz\")"
   ]
  },
  {
   "cell_type": "code",
   "execution_count": 12,
   "metadata": {},
   "outputs": [
    {
     "name": "stdout",
     "output_type": "stream",
     "text": [
      "Minimun weight of smoke and hypertension: 2 lbs 8.04 oz\n",
      "Average weight of smoke and hypertension: 5 lbs 10.34 oz\n",
      "Maximum weight of smoke and hypertension: 8 lbs 4.49 oz\n"
     ]
    }
   ],
   "source": [
    "# (5 pts) What is the minimum, average and maximum birth weight of babies whose mothers smoked\n",
    "# during pregnancy and had a history of hypertension?\n",
    "op_desired_bwt_column = []\n",
    "for row in data_array:\n",
    "    if row[4] + row[6] == 2:\n",
    "        op_desired_bwt_column.append(row[9])\n",
    "\n",
    "op_min_pounds, op_min_oz = convert_birthweight(np.min(op_desired_bwt_column))\n",
    "op_avg_pounds, op_avg_oz = convert_birthweight(np.mean(op_desired_bwt_column))\n",
    "op_max_pounds, op_max_oz = convert_birthweight(np.max(op_desired_bwt_column))\n",
    "\n",
    "print(\"Minimun weight of smoke and hypertension:\", op_min_pounds, \"lbs\", op_min_oz, \"oz\")\n",
    "print(\"Average weight of smoke and hypertension:\", op_avg_pounds, \"lbs\", op_avg_oz, \"oz\")\n",
    "print(\"Maximum weight of smoke and hypertension:\", op_max_pounds, \"lbs\", op_max_oz, \"oz\")"
   ]
  },
  {
   "cell_type": "code",
   "execution_count": 14,
   "metadata": {},
   "outputs": [
    {
     "data": {
      "text/plain": [
       "'\\n(5 pts) Compare and contrast the results from 7-11 above and summarize your findings.\\nDo you see any patterns in the birth weight of babies whose mother did not have any history of\\nhypertension and/or did not smoke during pregnancy versus those who did? Ensure that you reference\\nspecific birth weights to support your explanation.\\nThe lowest weight of the baby whose mother had a history of hypertension was also a smoker as the\\nminimum weight of mothers who had hypertension and mothers who had both are the same weight. Babies\\nborn to none smokers or people with hypertension seem to be healthier as they are heavier on average.\\nThey also have the highest weighing baby at around 11 pounds. The babies with hypertension seem to\\nweigh less on average as they have the lowest average and also bring down the average of babies born\\nto smokers.\\n'"
      ]
     },
     "execution_count": 14,
     "metadata": {},
     "output_type": "execute_result"
    }
   ],
   "source": [
    "\"\"\"\n",
    "(5 pts) Compare and contrast the results from 7-11 above and summarize your findings.\n",
    "Do you see any patterns in the birth weight of babies whose mother did not have any history of\n",
    "hypertension and/or did not smoke during pregnancy versus those who did? Ensure that you reference\n",
    "specific birth weights to support your explanation.\n",
    "The lowest weight of the baby whose mother had a history of hypertension was also a smoker as the\n",
    "minimum weight of mothers who had hypertension and mothers who had both are the same weight. Babies\n",
    "born to none smokers or people with hypertension seem to be healthier as they are heavier on average.\n",
    "They also have the highest weighing baby at around 11 pounds. The babies with hypertension seem to\n",
    "weigh less on average as they have the lowest average and also bring down the average of babies born\n",
    "to smokers.\n",
    "\"\"\""
   ]
  },
  {
   "cell_type": "code",
   "execution_count": null,
   "metadata": {},
   "outputs": [],
   "source": []
  }
 ],
 "metadata": {
  "kernelspec": {
   "display_name": "Python 3 (ipykernel)",
   "language": "python",
   "name": "python3"
  },
  "language_info": {
   "codemirror_mode": {
    "name": "ipython",
    "version": 3
   },
   "file_extension": ".py",
   "mimetype": "text/x-python",
   "name": "python",
   "nbconvert_exporter": "python",
   "pygments_lexer": "ipython3",
   "version": "3.11.5"
  }
 },
 "nbformat": 4,
 "nbformat_minor": 4
}
