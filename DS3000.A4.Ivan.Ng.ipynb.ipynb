{
 "cells": [
  {
   "cell_type": "markdown",
   "metadata": {},
   "source": [
    "# DS 3000 - Assignment 4\n",
    "\n",
    "**Student Name**: [Ivan Ng]\n",
    "\n",
    "**Date**: [2/4/2024]\n",
    "\n",
    "### Submission Instructions\n",
    "Submit this `ipynb` file to canvas.\n",
    "\n",
    "The `ipynb` format stores outputs from the last time you ran the notebook.  (When you open a notebook it has the figures and outputs of the last time you ran it too).  To ensure that your submitted `ipynb` file represents your latest code, make sure to give a fresh run `Kernel > Restart & Run All` just before uploading the `ipynb` file to Canvas.\n",
    "\n",
    "### Academic Integrity\n",
    "\n",
    "**Writing your homework is an individual effort.**  You may discuss general python problems with other students but under no circumstances should you observe another student's code which was written for this assignment, from this year or past years.  Pop into office hours or DM us in MS Teams if you have a specific question about your work or if you would like another pair of eyes or talk through your code.\n",
    "\n",
    "Don't forget to cite websites which helped you solve a problem in a unique way.  You can do this in markdown near the code or with a simple one-line comment. You do not need to cite the official python documentation.\n",
    "\n",
    "**Documentation / style counts for credit**  Please refer to the Pep-8 style, to improve the readability and consistency of your Python code. For more information, read the following article [How to Write Beautiful Python Code With PEP 8](https://realpython.com/python-pep8/) or ask your TA's for tips.\n",
    "\n",
    "**NOTE:<span style='color:red'> Write python expressions to answer ALL questions below and ensure that you use the `print()` function to display the output.</span>** Each question should be answered in a new code cell. For example, your solution for question 1.1 should be in a different code cell from your solution for question 1.2."
   ]
  },
  {
   "cell_type": "code",
   "execution_count": null,
   "metadata": {},
   "outputs": [],
   "source": []
  },
  {
   "cell_type": "markdown",
   "metadata": {},
   "source": [
    "## Data Science Problem (50 pts)\n",
    "### Instructions\n",
    "\n",
    "You are hired as a Data Scientist for the NYC Taxi and Limousine Commission (TLC) and this company routinely collects trip data from all licensed cabs in NY. Your team would like to use this data in the future to understand how New Yorkers use these taxis. Your first assignment is to **analyze the data of the Green Taxis, and determine if its a viable source.**\n",
    "\n",
    "Your supervisor has requested that you perform your analysis using data from February 2023 and would like for you to present your findings during the next team meeting. Use a Jupyter notebook to explain your data wrangling and analytical steps to your colleagues. \n",
    "\n",
    "**Data & Documentation**\n",
    "\n",
    "- **Data Source:** https://d37ci6vzurychx.cloudfront.net/trip-data/green_tripdata_2023-02.parquet\n",
    "- **Data Dictionary:** [Green Trips Data Dictionary](https://www1.nyc.gov/assets/tlc/downloads/pdf/data_dictionary_trip_records_green.pdf).\n",
    "\n",
    "The TLC trip record data and a description of the initiative can be found at the following link: https://www1.nyc.gov/site/tlc/about/tlc-trip-record-data.page\n",
    "\n",
    "**`Note:`** Ensure that you explain the results from each question.\n",
    "\n",
    "\n",
    "**In this assignment you will use the Pandas library. Pandas allows us to load data that's stored in a various formats, e.g. excel, csv, txt, parquet, etc. In this assignment, you will learn to read data in parquet format which is one of the preferred formats when working with `Big Data`. [Click here to learn more about parquet files](https://towardsdatascience.com/csv-files-for-storage-no-thanks-theres-a-better-option-72c78a414d1d)**\n",
    "\n",
    "I also provided starter code below to help you to read the data in parquet format. First, you'll need to install a new library called *fastparquet*."
   ]
  },
  {
   "cell_type": "code",
   "execution_count": 1,
   "metadata": {},
   "outputs": [
    {
     "name": "stdout",
     "output_type": "stream",
     "text": [
      "Requirement already satisfied: fastparquet in c:\\users\\ivan\\anaconda3\\lib\\site-packages (2023.10.1)\n",
      "Requirement already satisfied: pandas>=1.5.0 in c:\\users\\ivan\\anaconda3\\lib\\site-packages (from fastparquet) (2.0.3)\n",
      "Requirement already satisfied: numpy>=1.20.3 in c:\\users\\ivan\\anaconda3\\lib\\site-packages (from fastparquet) (1.24.3)\n",
      "Requirement already satisfied: cramjam>=2.3 in c:\\users\\ivan\\anaconda3\\lib\\site-packages (from fastparquet) (2.8.1)\n",
      "Requirement already satisfied: fsspec in c:\\users\\ivan\\anaconda3\\lib\\site-packages (from fastparquet) (2023.4.0)\n",
      "Requirement already satisfied: packaging in c:\\users\\ivan\\anaconda3\\lib\\site-packages (from fastparquet) (23.1)\n",
      "Requirement already satisfied: python-dateutil>=2.8.2 in c:\\users\\ivan\\anaconda3\\lib\\site-packages (from pandas>=1.5.0->fastparquet) (2.8.2)\n",
      "Requirement already satisfied: pytz>=2020.1 in c:\\users\\ivan\\anaconda3\\lib\\site-packages (from pandas>=1.5.0->fastparquet) (2023.3.post1)\n",
      "Requirement already satisfied: tzdata>=2022.1 in c:\\users\\ivan\\anaconda3\\lib\\site-packages (from pandas>=1.5.0->fastparquet) (2023.3)\n",
      "Requirement already satisfied: six>=1.5 in c:\\users\\ivan\\anaconda3\\lib\\site-packages (from python-dateutil>=2.8.2->pandas>=1.5.0->fastparquet) (1.16.0)\n"
     ]
    }
   ],
   "source": [
    "#run this cell to install the fast parquet library\n",
    "!pip install fastparquet"
   ]
  },
  {
   "cell_type": "markdown",
   "metadata": {},
   "source": [
    "## 1. Load the data\n",
    "Load the NYC Green Taxi Trip Records data directly from the URL into a data frame called tripdata_df. "
   ]
  },
  {
   "cell_type": "code",
   "execution_count": 2,
   "metadata": {},
   "outputs": [
    {
     "name": "stdout",
     "output_type": "stream",
     "text": [
      "       VendorID lpep_pickup_datetime lpep_dropoff_datetime store_and_fwd_flag  \\\n",
      "0           1.0  2023-02-01 00:46:22   2023-02-01 01:05:57                  N   \n",
      "1           2.0  2023-02-01 00:05:09   2023-02-01 00:22:42                  N   \n",
      "2           2.0  2023-02-01 00:03:47   2023-02-01 00:27:30                  N   \n",
      "3           2.0  2023-01-31 23:30:56   2023-01-31 23:51:40                  N   \n",
      "4           2.0  2023-02-01 00:15:05   2023-02-01 00:26:02                  N   \n",
      "...         ...                  ...                   ...                ...   \n",
      "64804       2.0  2023-02-28 21:49:00   2023-02-28 22:04:00               None   \n",
      "64805       2.0  2023-02-28 21:05:00   2023-02-28 21:08:00               None   \n",
      "64806       2.0  2023-02-28 22:42:00   2023-02-28 22:59:00               None   \n",
      "64807       2.0  2023-02-28 23:21:00   2023-02-28 23:38:00               None   \n",
      "64808       2.0  2023-02-28 23:10:00   2023-02-28 23:15:00               None   \n",
      "\n",
      "       RatecodeID  PULocationID  DOLocationID  passenger_count  trip_distance  \\\n",
      "0             1.0          74.0         265.0              1.0          10.80   \n",
      "1             1.0         216.0         196.0              1.0           4.76   \n",
      "2             1.0           7.0         114.0              1.0           6.32   \n",
      "3             1.0          74.0         239.0              1.0           3.50   \n",
      "4             1.0          82.0         223.0              1.0           3.14   \n",
      "...           ...           ...           ...              ...            ...   \n",
      "64804         NaN           7.0         263.0              NaN           3.83   \n",
      "64805         NaN          41.0          42.0              NaN           0.67   \n",
      "64806         NaN         166.0         141.0              NaN           3.91   \n",
      "64807         NaN          41.0         244.0              NaN           4.54   \n",
      "64808         NaN          75.0         140.0              NaN           2.61   \n",
      "\n",
      "       fare_amount  extra  mta_tax  tip_amount  tolls_amount  ehail_fee  \\\n",
      "0            42.90    1.0      1.5        0.00           0.0        NaN   \n",
      "1            23.30    1.0      0.5        0.00           0.0        NaN   \n",
      "2            30.30    1.0      0.5        8.89           0.0        NaN   \n",
      "3            16.30    1.0      0.5        0.00           0.0        NaN   \n",
      "4            17.00    1.0      0.5        0.00           0.0        NaN   \n",
      "...            ...    ...      ...         ...           ...        ...   \n",
      "64804        16.70    0.0      0.0        2.00           0.0        NaN   \n",
      "64805        12.95    0.0      0.0        2.79           0.0        NaN   \n",
      "64806        19.60    0.0      0.0        3.50           0.0        NaN   \n",
      "64807        19.36    0.0      0.0        4.07           0.0        NaN   \n",
      "64808        13.18    0.0      0.0        3.39           0.0        NaN   \n",
      "\n",
      "       improvement_surcharge  total_amount  payment_type  trip_type  \\\n",
      "0                        1.0         45.40           2.0        1.0   \n",
      "1                        1.0         25.80           2.0        1.0   \n",
      "2                        1.0         44.44           1.0        1.0   \n",
      "3                        1.0         21.55           2.0        1.0   \n",
      "4                        1.0         19.50           2.0        1.0   \n",
      "...                      ...           ...           ...        ...   \n",
      "64804                    1.0         22.45           NaN        NaN   \n",
      "64805                    1.0         16.74           NaN        NaN   \n",
      "64806                    1.0         26.85           NaN        NaN   \n",
      "64807                    1.0         24.43           NaN        NaN   \n",
      "64808                    1.0         20.32           NaN        NaN   \n",
      "\n",
      "       congestion_surcharge  \n",
      "0                      0.00  \n",
      "1                      0.00  \n",
      "2                      2.75  \n",
      "3                      2.75  \n",
      "4                      0.00  \n",
      "...                     ...  \n",
      "64804                   NaN  \n",
      "64805                   NaN  \n",
      "64806                   NaN  \n",
      "64807                   NaN  \n",
      "64808                   NaN  \n",
      "\n",
      "[64809 rows x 20 columns]\n"
     ]
    }
   ],
   "source": [
    "import pandas as pd\n",
    "#let's load the data into a dataframe\n",
    "\n",
    "parquet_url = \"https://d37ci6vzurychx.cloudfront.net/trip-data/green_tripdata_2023-02.parquet\"\n",
    "parquet_path = \"Downloads/green_tripdata_2023-02.parquet\"\n",
    "\n",
    "tripdata_df = pd.read_parquet(parquet_url,\n",
    "                      engine = 'fastparquet')\n",
    "\n",
    "print(tripdata_df)\n",
    "#Note: you'll notice two new things. 1) We are using a new function called `read_parquet()` which indicates that we are \n",
    "#      reading data in parquet format. 2) We used the fastparquet library as the engine. \n",
    "#      That's it! Pandas will load the data into a dataframe. You can now use the dataframe for EDA.\n",
    "\n",
    "# Reminder: How does Pandas read other file formats?\n",
    "# 1. Excel files: pd.read_excel()\n",
    "# 2. CSV Files: pd.read_csv()\n",
    "# ... and now you know how to read parquet files using pd.read_parquet()\n"
   ]
  },
  {
   "cell_type": "markdown",
   "metadata": {},
   "source": [
    "## 2. Inspect the Data (5 pts) \n",
    "Inspect the data and perform the following: \n",
    "1. display the dimensions, and indicate if the variables have suitable types.\n",
    "2. convert all variables to suitable types"
   ]
  },
  {
   "cell_type": "code",
   "execution_count": 3,
   "metadata": {},
   "outputs": [
    {
     "name": "stdout",
     "output_type": "stream",
     "text": [
      "Dimensions of the DataFrame: (64809, 20)\n",
      "\n",
      "Data Types:\n",
      "VendorID                        float64\n",
      "lpep_pickup_datetime     datetime64[us]\n",
      "lpep_dropoff_datetime    datetime64[us]\n",
      "store_and_fwd_flag               object\n",
      "RatecodeID                      float64\n",
      "PULocationID                    float64\n",
      "DOLocationID                    float64\n",
      "passenger_count                 float64\n",
      "trip_distance                   float64\n",
      "fare_amount                     float64\n",
      "extra                           float64\n",
      "mta_tax                         float64\n",
      "tip_amount                      float64\n",
      "tolls_amount                    float64\n",
      "ehail_fee                       float64\n",
      "improvement_surcharge           float64\n",
      "total_amount                    float64\n",
      "payment_type                    float64\n",
      "trip_type                       float64\n",
      "congestion_surcharge            float64\n",
      "dtype: object\n",
      "\n",
      "Vendors should be int\n",
      "store_and_fwd_flag should be string\n",
      "PULocationID should be int\n",
      "DOLocationID should be int\n",
      "trip_type should be string\n"
     ]
    }
   ],
   "source": [
    "dimensions = tripdata_df.shape\n",
    "print(f\"Dimensions of the DataFrame: {dimensions}\")\n",
    "\n",
    "data_types = tripdata_df.dtypes\n",
    "print(\"\\nData Types:\")\n",
    "print(data_types)\n",
    "\n",
    "print(\"\\nVendors should be int\")\n",
    "print(\"store_and_fwd_flag should be string\")\n",
    "print(\"PULocationID should be int\")\n",
    "print(\"DOLocationID should be int\")\n",
    "print(\"trip_type should be string\")"
   ]
  },
  {
   "cell_type": "code",
   "execution_count": 4,
   "metadata": {},
   "outputs": [
    {
     "name": "stdout",
     "output_type": "stream",
     "text": [
      "Data Types with changes\n",
      "VendorID                          int32\n",
      "lpep_pickup_datetime     datetime64[us]\n",
      "lpep_dropoff_datetime    datetime64[us]\n",
      "store_and_fwd_flag               object\n",
      "RatecodeID                      float64\n",
      "PULocationID                      int32\n",
      "DOLocationID                      int32\n",
      "passenger_count                 float64\n",
      "trip_distance                   float64\n",
      "fare_amount                     float64\n",
      "extra                           float64\n",
      "mta_tax                         float64\n",
      "tip_amount                      float64\n",
      "tolls_amount                    float64\n",
      "ehail_fee                       float64\n",
      "improvement_surcharge           float64\n",
      "total_amount                    float64\n",
      "payment_type                    float64\n",
      "trip_type                        object\n",
      "congestion_surcharge            float64\n",
      "dtype: object\n"
     ]
    }
   ],
   "source": [
    "tripdata_df['VendorID'] = tripdata_df['VendorID'].astype(int)\n",
    "tripdata_df['store_and_fwd_flag'] = tripdata_df['store_and_fwd_flag'].astype(str)\n",
    "tripdata_df['PULocationID'] = tripdata_df['PULocationID'].astype(int)\n",
    "tripdata_df['DOLocationID'] = tripdata_df['DOLocationID'].astype(int)\n",
    "tripdata_df['trip_type'] = tripdata_df['trip_type'].astype(str)\n",
    "\n",
    "print(\"Data Types with changes\")\n",
    "print(tripdata_df.dtypes)"
   ]
  },
  {
   "cell_type": "markdown",
   "metadata": {},
   "source": [
    "## 3. Types of Data (2 pts) \n",
    "Are there any categorical data in this dataset. If they exist, demonstrate at least two categorical variables and indicate if they are nominal or ordinal (hint: read the data dictionary above which describes all fields in the data)"
   ]
  },
  {
   "cell_type": "code",
   "execution_count": 5,
   "metadata": {},
   "outputs": [
    {
     "name": "stdout",
     "output_type": "stream",
     "text": [
      "VendorID, nominal\n",
      "RateCodeID\n"
     ]
    }
   ],
   "source": [
    "print(\"VendorID, nominal\")\n",
    "print(\"RateCodeID\")"
   ]
  },
  {
   "cell_type": "markdown",
   "metadata": {},
   "source": [
    "## 4. Missing Values (10 pts) \n",
    "Evaluate the frequency of missing values in the dataset and perform the following:\n",
    "1. explain if missing values are an isolated case or a widespread issue? \n",
    "2. what method would you recommend to handle missing data?\n",
    "3. write the suitable code to handle the missing values."
   ]
  },
  {
   "cell_type": "code",
   "execution_count": 6,
   "metadata": {},
   "outputs": [
    {
     "name": "stdout",
     "output_type": "stream",
     "text": [
      "<class 'pandas.core.frame.DataFrame'>\n",
      "RangeIndex: 64809 entries, 0 to 64808\n",
      "Data columns (total 20 columns):\n",
      " #   Column                 Non-Null Count  Dtype         \n",
      "---  ------                 --------------  -----         \n",
      " 0   VendorID               64809 non-null  int32         \n",
      " 1   lpep_pickup_datetime   64809 non-null  datetime64[us]\n",
      " 2   lpep_dropoff_datetime  64809 non-null  datetime64[us]\n",
      " 3   store_and_fwd_flag     64809 non-null  object        \n",
      " 4   RatecodeID             59988 non-null  float64       \n",
      " 5   PULocationID           64809 non-null  int32         \n",
      " 6   DOLocationID           64809 non-null  int32         \n",
      " 7   passenger_count        59988 non-null  float64       \n",
      " 8   trip_distance          64809 non-null  float64       \n",
      " 9   fare_amount            64809 non-null  float64       \n",
      " 10  extra                  64809 non-null  float64       \n",
      " 11  mta_tax                64809 non-null  float64       \n",
      " 12  tip_amount             64809 non-null  float64       \n",
      " 13  tolls_amount           64809 non-null  float64       \n",
      " 14  ehail_fee              0 non-null      float64       \n",
      " 15  improvement_surcharge  64809 non-null  float64       \n",
      " 16  total_amount           64809 non-null  float64       \n",
      " 17  payment_type           59988 non-null  float64       \n",
      " 18  trip_type              64809 non-null  object        \n",
      " 19  congestion_surcharge   59988 non-null  float64       \n",
      "dtypes: datetime64[us](2), float64(13), int32(3), object(2)\n",
      "memory usage: 9.1+ MB\n",
      "None\n"
     ]
    }
   ],
   "source": [
    "print(tripdata_df.info())"
   ]
  },
  {
   "cell_type": "code",
   "execution_count": 7,
   "metadata": {},
   "outputs": [
    {
     "name": "stdout",
     "output_type": "stream",
     "text": [
      "The missing values are a widespread issue as multiple columns have missing data.\n",
      "ehail_fee which is an empty column making it an isolated case.\n",
      "However many of the non-nulls stats are the same across multiple columns.\n",
      "This leads me to suspect that it is an isolated issue by row.\n",
      "Therefore I recommend trying row removal and removeing the ehail_fee column.\n",
      "<class 'pandas.core.frame.DataFrame'>\n",
      "Index: 59988 entries, 0 to 59987\n",
      "Data columns (total 19 columns):\n",
      " #   Column                 Non-Null Count  Dtype         \n",
      "---  ------                 --------------  -----         \n",
      " 0   VendorID               59988 non-null  int32         \n",
      " 1   lpep_pickup_datetime   59988 non-null  datetime64[us]\n",
      " 2   lpep_dropoff_datetime  59988 non-null  datetime64[us]\n",
      " 3   store_and_fwd_flag     59988 non-null  object        \n",
      " 4   RatecodeID             59988 non-null  float64       \n",
      " 5   PULocationID           59988 non-null  int32         \n",
      " 6   DOLocationID           59988 non-null  int32         \n",
      " 7   passenger_count        59988 non-null  float64       \n",
      " 8   trip_distance          59988 non-null  float64       \n",
      " 9   fare_amount            59988 non-null  float64       \n",
      " 10  extra                  59988 non-null  float64       \n",
      " 11  mta_tax                59988 non-null  float64       \n",
      " 12  tip_amount             59988 non-null  float64       \n",
      " 13  tolls_amount           59988 non-null  float64       \n",
      " 14  improvement_surcharge  59988 non-null  float64       \n",
      " 15  total_amount           59988 non-null  float64       \n",
      " 16  payment_type           59988 non-null  float64       \n",
      " 17  trip_type              59988 non-null  object        \n",
      " 18  congestion_surcharge   59988 non-null  float64       \n",
      "dtypes: datetime64[us](2), float64(12), int32(3), object(2)\n",
      "memory usage: 8.5+ MB\n",
      "None\n"
     ]
    }
   ],
   "source": [
    "print(\"The missing values are a widespread issue as multiple columns have missing data.\")\n",
    "print(\"ehail_fee which is an empty column making it an isolated case.\")\n",
    "print(\"However many of the non-nulls stats are the same across multiple columns.\")\n",
    "print(\"This leads me to suspect that it is an isolated issue by row.\")\n",
    "print(\"Therefore I recommend trying row removal and removeing the ehail_fee column.\")\n",
    "\n",
    "tripdata_df = tripdata_df.drop(columns=[\"ehail_fee\"])\n",
    "tripdata_df = tripdata_df.dropna()\n",
    "\n",
    "print(tripdata_df.info())"
   ]
  },
  {
   "cell_type": "markdown",
   "metadata": {},
   "source": [
    "## 5. Invalid Data (10 pts) \n",
    "Explore the data to determine if there are any invalid values and perform the following: \n",
    "1. demonstrate at least three issues that you found.\n",
    "2. write suitable code to handle the invalid data that you found."
   ]
  },
  {
   "cell_type": "code",
   "execution_count": 8,
   "metadata": {},
   "outputs": [
    {
     "name": "stdout",
     "output_type": "stream",
     "text": [
      "       VendorID lpep_pickup_datetime lpep_dropoff_datetime store_and_fwd_flag  \\\n",
      "0             1  2023-02-01 00:46:22   2023-02-01 01:05:57                  N   \n",
      "1             2  2023-02-01 00:05:09   2023-02-01 00:22:42                  N   \n",
      "2             2  2023-02-01 00:03:47   2023-02-01 00:27:30                  N   \n",
      "3             2  2023-01-31 23:30:56   2023-01-31 23:51:40                  N   \n",
      "4             2  2023-02-01 00:15:05   2023-02-01 00:26:02                  N   \n",
      "...         ...                  ...                   ...                ...   \n",
      "59983         2  2023-02-28 23:17:57   2023-02-28 23:24:30                  N   \n",
      "59984         2  2023-03-01 00:01:06   2023-03-01 00:03:33                  N   \n",
      "59985         2  2023-02-28 23:33:40   2023-02-28 23:42:16                  N   \n",
      "59986         2  2023-02-28 23:21:27   2023-02-28 23:36:36                  N   \n",
      "59987         2  2023-02-28 23:56:44   2023-03-01 00:02:15                  N   \n",
      "\n",
      "       RatecodeID  PULocationID  DOLocationID  passenger_count  trip_distance  \\\n",
      "0             1.0            74           265              1.0          10.80   \n",
      "1             1.0           216           196              1.0           4.76   \n",
      "2             1.0             7           114              1.0           6.32   \n",
      "3             1.0            74           239              1.0           3.50   \n",
      "4             1.0            82           223              1.0           3.14   \n",
      "...           ...           ...           ...              ...            ...   \n",
      "59983         1.0           130           215              1.0           1.45   \n",
      "59984         1.0           191           122              1.0           0.78   \n",
      "59985         1.0            74            24              1.0           1.50   \n",
      "59986         1.0            95           258              1.0           3.01   \n",
      "59987         5.0            41            41              1.0           1.02   \n",
      "\n",
      "       fare_amount  extra  mta_tax  tip_amount  tolls_amount  \\\n",
      "0             42.9    1.0      1.5        0.00           0.0   \n",
      "1             23.3    1.0      0.5        0.00           0.0   \n",
      "2             30.3    1.0      0.5        8.89           0.0   \n",
      "3             16.3    1.0      0.5        0.00           0.0   \n",
      "4             17.0    1.0      0.5        0.00           0.0   \n",
      "...            ...    ...      ...         ...           ...   \n",
      "59983          9.3    1.0      0.5        0.00           0.0   \n",
      "59984          5.8    1.0      0.5        0.00           0.0   \n",
      "59985          9.3    1.0      0.5        0.00           0.0   \n",
      "59986         17.0    1.0      0.5        3.90           0.0   \n",
      "59987          8.0    0.0      0.0        0.00           0.0   \n",
      "\n",
      "       improvement_surcharge  total_amount  payment_type trip_type  \\\n",
      "0                        1.0         45.40           2.0       1.0   \n",
      "1                        1.0         25.80           2.0       1.0   \n",
      "2                        1.0         44.44           1.0       1.0   \n",
      "3                        1.0         21.55           2.0       1.0   \n",
      "4                        1.0         19.50           2.0       1.0   \n",
      "...                      ...           ...           ...       ...   \n",
      "59983                    1.0         11.80           1.0       1.0   \n",
      "59984                    1.0          8.30           2.0       1.0   \n",
      "59985                    1.0         11.80           2.0       1.0   \n",
      "59986                    1.0         23.40           1.0       1.0   \n",
      "59987                    1.0          9.00           2.0       2.0   \n",
      "\n",
      "       congestion_surcharge  \n",
      "0                      0.00  \n",
      "1                      0.00  \n",
      "2                      2.75  \n",
      "3                      2.75  \n",
      "4                      0.00  \n",
      "...                     ...  \n",
      "59983                  0.00  \n",
      "59984                  0.00  \n",
      "59985                  0.00  \n",
      "59986                  0.00  \n",
      "59987                  0.00  \n",
      "\n",
      "[59988 rows x 19 columns]\n"
     ]
    }
   ],
   "source": [
    "print(tripdata_df)"
   ]
  },
  {
   "cell_type": "code",
   "execution_count": 9,
   "metadata": {
    "scrolled": true
   },
   "outputs": [
    {
     "name": "stdout",
     "output_type": "stream",
     "text": [
      "Had errors coercing the data types of:\n",
      "RatecodeID\n",
      "payment_type\n",
      "passenger_count\n",
      "as these should be ints\n",
      "However after removing the null rows causing this issue,\n",
      "I can fix the variable to be suitable.\n",
      "VendorID                          int32\n",
      "lpep_pickup_datetime     datetime64[us]\n",
      "lpep_dropoff_datetime    datetime64[us]\n",
      "store_and_fwd_flag               object\n",
      "RatecodeID                        int32\n",
      "PULocationID                      int32\n",
      "DOLocationID                      int32\n",
      "passenger_count                   int32\n",
      "trip_distance                   float64\n",
      "fare_amount                     float64\n",
      "extra                           float64\n",
      "mta_tax                         float64\n",
      "tip_amount                      float64\n",
      "tolls_amount                    float64\n",
      "improvement_surcharge           float64\n",
      "total_amount                    float64\n",
      "payment_type                      int32\n",
      "trip_type                        object\n",
      "congestion_surcharge            float64\n",
      "dtype: object\n"
     ]
    }
   ],
   "source": [
    "print(\"Had errors coercing the data types of:\")\n",
    "print(\"RatecodeID\")\n",
    "print(\"payment_type\")\n",
    "print(\"passenger_count\")\n",
    "print(\"as these should be ints\")\n",
    "print(\"However after removing the null rows causing this issue,\")\n",
    "print(\"I can fix the variable to be suitable.\")\n",
    "\n",
    "tripdata_df['RatecodeID'] = tripdata_df['RatecodeID'].astype(int)\n",
    "tripdata_df['payment_type'] = tripdata_df['payment_type'].astype(int)\n",
    "tripdata_df['passenger_count'] = tripdata_df['passenger_count'].astype(int)\n",
    "\n",
    "print(tripdata_df.dtypes)"
   ]
  },
  {
   "cell_type": "markdown",
   "metadata": {},
   "source": [
    "<span style='color:red'>**Answer the following questions using the prepared data.**</span>"
   ]
  },
  {
   "cell_type": "markdown",
   "metadata": {},
   "source": [
    "## 6. Data Visualization (10 pts) \n",
    "Create bar charts that show: \n",
    "1. the most common way that New Yorkers request/hail a cab. \n",
    "2. the most common pick-up locations (display the top 5 locations). \n",
    "3. the most common drop-off locations (display the top 5 locations). \n",
    "\n",
    "Explain each chart."
   ]
  },
  {
   "cell_type": "code",
   "execution_count": 11,
   "metadata": {},
   "outputs": [
    {
     "data": {
      "image/png": "[encoded data removed]",
      "text/plain": [
       "<Figure size 800x600 with 1 Axes>"
      ]
     },
     "metadata": {},
     "output_type": "display_data"
    }
   ],
   "source": [
    "import matplotlib.pyplot as mpl\n",
    "\n",
    "trip_type_counts = tripdata_df['trip_type'].value_counts()\n",
    "\n",
    "mpl.figure(figsize=(8, 6))\n",
    "trip_type_counts.plot(kind='bar', color='lightblue')\n",
    "mpl.title('Trip Type Distribution')\n",
    "mpl.xlabel('Trip Type')\n",
    "mpl.ylabel('Count')\n",
    "mpl.xticks(rotation=0)\n",
    "mpl.show()"
   ]
  },
  {
   "cell_type": "code",
   "execution_count": 12,
   "metadata": {},
   "outputs": [
    {
     "data": {
      "image/png": "[encoded data removed]",
      "text/plain": [
       "<Figure size 1000x600 with 1 Axes>"
      ]
     },
     "metadata": {},
     "output_type": "display_data"
    }
   ],
   "source": [
    "top_pickup_locations = tripdata_df['PULocationID'].value_counts().nlargest(5)\n",
    "\n",
    "# Plot a bar chart\n",
    "mpl.figure(figsize=(10, 6))\n",
    "top_pickup_locations.plot(kind='bar', color='lightblue')\n",
    "mpl.title('Top 5 Pick-up Locations')\n",
    "mpl.xlabel('Location ID')\n",
    "mpl.ylabel('Count')\n",
    "mpl.show()"
   ]
  },
  {
   "cell_type": "code",
   "execution_count": 13,
   "metadata": {},
   "outputs": [
    {
     "data": {
      "image/png": "[encoded data removed]",
      "text/plain": [
       "<Figure size 1000x600 with 1 Axes>"
      ]
     },
     "metadata": {},
     "output_type": "display_data"
    }
   ],
   "source": [
    "top_dropoff_locations = tripdata_df['DOLocationID'].value_counts().nlargest(5)\n",
    "\n",
    "# Plot a bar chart\n",
    "mpl.figure(figsize=(10, 6))\n",
    "top_dropoff_locations.plot(kind='bar', color='lightblue')\n",
    "mpl.title('Top 5 Drop-off Locations')\n",
    "mpl.xlabel('Location ID')\n",
    "mpl.ylabel('Count')\n",
    "mpl.show()"
   ]
  },
  {
   "cell_type": "markdown",
   "metadata": {},
   "source": [
    "## 7. Data Analysis (10 pts)\n",
    "Write suitable code to answer the following:\n",
    "1. On average, how far do New Yorkers usually travel using these taxis?\n",
    "2. What is the most expensive and least expensive trip? \n",
    "3. What is the minimum, average and maximum **tip amount** for all trips that are 1) under 2 miles and 2) over 2 miles (i.e. >= 2)? \n",
    "\n",
    "Explain the results."
   ]
  },
  {
   "cell_type": "code",
   "execution_count": 14,
   "metadata": {},
   "outputs": [
    {
     "name": "stdout",
     "output_type": "stream",
     "text": [
      "Average Trip Distance: 2.70382026405281\n"
     ]
    }
   ],
   "source": [
    "average_trip_distance = tripdata_df['trip_distance'].mean()\n",
    "print(\"Average Trip Distance:\", average_trip_distance)"
   ]
  },
  {
   "cell_type": "code",
   "execution_count": 16,
   "metadata": {},
   "outputs": [
    {
     "name": "stdout",
     "output_type": "stream",
     "text": [
      "Most Expensive Trip: 441.0\n",
      "Least Expensive Trip: -68.0\n"
     ]
    }
   ],
   "source": [
    "max_total_amount = tripdata_df['total_amount'].max()\n",
    "min_total_amount = tripdata_df['total_amount'].min()\n",
    "print(\"Most Expensive Trip:\", max_total_amount)\n",
    "print(\"Least Expensive Trip:\", min_total_amount)"
   ]
  },
  {
   "cell_type": "code",
   "execution_count": 17,
   "metadata": {},
   "outputs": [
    {
     "name": "stdout",
     "output_type": "stream",
     "text": [
      "For trips under 2 miles:\n",
      "Minimum Tip Amount: -0.9\n",
      "Average Tip Amount: 1.3186187494327977\n",
      "Maximum Tip Amount: 80.0\n",
      "\n",
      "For trips 2 miles and over:\n",
      "Minimum Tip Amount: 0.0\n",
      "Average Tip Amount: 2.9913816791058627\n",
      "Maximum Tip Amount: 75.82\n"
     ]
    }
   ],
   "source": [
    "under_2_miles = tripdata_df[tripdata_df['trip_distance'] < 2]\n",
    "over_2_miles = tripdata_df[tripdata_df['trip_distance'] >= 2]\n",
    "min_tip_under_2 = under_2_miles['tip_amount'].min()\n",
    "avg_tip_under_2 = under_2_miles['tip_amount'].mean()\n",
    "max_tip_under_2 = under_2_miles['tip_amount'].max()\n",
    "min_tip_over_2 = over_2_miles['tip_amount'].min()\n",
    "avg_tip_over_2 = over_2_miles['tip_amount'].mean()\n",
    "max_tip_over_2 = over_2_miles['tip_amount'].max()\n",
    "\n",
    "print(\"For trips under 2 miles:\")\n",
    "print(\"Minimum Tip Amount:\", min_tip_under_2)\n",
    "print(\"Average Tip Amount:\", avg_tip_under_2)\n",
    "print(\"Maximum Tip Amount:\", max_tip_under_2)\n",
    "\n",
    "print(\"\\nFor trips 2 miles and over:\")\n",
    "print(\"Minimum Tip Amount:\", min_tip_over_2)\n",
    "print(\"Average Tip Amount:\", avg_tip_over_2)\n",
    "print(\"Maximum Tip Amount:\", max_tip_over_2)"
   ]
  },
  {
   "cell_type": "markdown",
   "metadata": {},
   "source": [
    "## 8. Findings (3 pts)\n",
    "Based on the preliminary analysis, is this data a viable source that can be used by your team in the future to understand how New Yorkers use these taxis? Justify your response."
   ]
  },
  {
   "cell_type": "code",
   "execution_count": 18,
   "metadata": {},
   "outputs": [
    {
     "name": "stdout",
     "output_type": "stream",
     "text": [
      "No, I don't think this data is a viable source.\n",
      "For one, about 500/6400 rows had a lot of null values.\n",
      "Secondly based on some of these outputs, there are invalid inputs.\n",
      "For price and tip etc.\n"
     ]
    }
   ],
   "source": [
    "print(\"No, I don't think this data is a viable source.\")\n",
    "print(\"For one, about 500/6400 rows had a lot of null values.\")\n",
    "print(\"Secondly based on some of these outputs, there are invalid inputs.\")\n",
    "print(\"For price and tip etc.\")"
   ]
  },
  {
   "cell_type": "code",
   "execution_count": null,
   "metadata": {},
   "outputs": [],
   "source": []
  }
 ],
 "metadata": {
  "kernelspec": {
   "display_name": "Python 3 (ipykernel)",
   "language": "python",
   "name": "python3"
  },
  "language_info": {
   "codemirror_mode": {
    "name": "ipython",
    "version": 3
   },
   "file_extension": ".py",
   "mimetype": "text/x-python",
   "name": "python",
   "nbconvert_exporter": "python",
   "pygments_lexer": "ipython3",
   "version": "3.11.5"
  }
 },
 "nbformat": 4,
 "nbformat_minor": 4
}
