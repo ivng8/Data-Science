{
 "cells": [
  {
   "cell_type": "markdown",
   "metadata": {},
   "source": [
    "# DS 3000 - Lab 2: Control Flow\n",
    "\n",
    "**Student Name**: [Ivan Ng]\n",
    "\n",
    "**Date**: [1/20/2024]\n",
    "\n",
    "### Submission Instructions\n",
    "Complete the questions in the lab and submit this `ipynb` file with your solution.\n",
    "\n",
    "<div class=\"alert alert-block alert-success\">\n",
    "This is your first lab where you will interact with the autograder in Gradescope. Ensure that you verify if your submission is correct and you are welcome to resubmit the lab to maximize your score. Should you experience any difficulty with using Gradescope, stop by OH for guidance.\n",
    "\n",
    "</div>\n",
    "\n",
    "\n",
    "The `ipynb` format stores outputs from the last time you ran the notebook.  (When you open a notebook it has the figures and outputs of the last time you ran it too).  To ensure that your submitted `ipynb` file represents your latest code, make sure to give a fresh run `Kernel > Restart & Run All` just before uploading the `ipynb` file to Canvas.\n",
    "\n",
    "<div class=\"alert alert-block alert-danger\">\n",
    "Please do not delete the cells that are provided nor add any extra cells. Ensure that you write your code in the given cells where indicated. <br>\n",
    "<strong>Do not delete any empty cells.</strong><br>\n",
    "</div>"
   ]
  },
  {
   "cell_type": "code",
   "execution_count": 13,
   "metadata": {},
   "outputs": [],
   "source": [
    "#Import any libraries\n"
   ]
  },
  {
   "cell_type": "markdown",
   "metadata": {},
   "source": [
    "### 1. (5 pt) Question 1:"
   ]
  },
  {
   "cell_type": "markdown",
   "metadata": {},
   "source": [
    "Write a program that uses `if…elif…else` statements to display whether any number that is provided is either 'positive', 'negative', or 'zero'.<br>\n",
    "\n",
    "`Note`: This program will not run until you enter a number to the `user_input` variable in step 2<br>\n",
    "**Reminder**: DO NOT add or delete any cells below."
   ]
  },
  {
   "cell_type": "code",
   "execution_count": 17,
   "metadata": {
    "deletable": false,
    "nbgrader": {
     "cell_type": "code",
     "checksum": "204b406e1aa9df104ca2577f62be9d0c",
     "grade": false,
     "grade_id": "q_1",
     "locked": false,
     "schema_version": 3,
     "solution": true
    }
   },
   "outputs": [],
   "source": [
    "def check_number(user_input):\n",
    "    \"\"\"\n",
    "    Determine whether a number is positive, negative, or zero.\n",
    "\n",
    "    Parameters:\n",
    "    user_input (float): The input number to be checked.\n",
    "\n",
    "    Returns:\n",
    "    result: A string indicating whether the number is 'positive', 'negative', or 'zero'.\n",
    "    \"\"\"\n",
    "    result = None # Acceptable return string are \"positive\", \"negative\" or \"zero\" (Result must be in lowercase as indicated in the quotes)\n",
    "\n",
    "    # YOUR if…elif…else CODE GOES HERE\n",
    "    if user_input > 0:\n",
    "        return 'positive'\n",
    "    elif user_input < 0:\n",
    "        return 'negative'\n",
    "    else:\n",
    "        return 'zero'\n",
    "    # YOUR CODE HERE\n",
    "    raise NotImplementedError()"
   ]
  },
  {
   "cell_type": "code",
   "execution_count": 19,
   "metadata": {},
   "outputs": [
    {
     "name": "stdout",
     "output_type": "stream",
     "text": [
      "positive\n"
     ]
    }
   ],
   "source": [
    "\n",
    "user_input = float(1.0) # Enter the number inside the parenthesis to test your function\n",
    "result = check_number(user_input)\n",
    "print(result)\n"
   ]
  },
  {
   "cell_type": "code",
   "execution_count": 12,
   "metadata": {
    "deletable": false,
    "editable": false,
    "nbgrader": {
     "cell_type": "code",
     "checksum": "b9214b678a1c86c482544f77fbe7d139",
     "grade": true,
     "grade_id": "positive_test",
     "locked": false,
     "points": 2,
     "schema_version": 3,
     "solution": false
    }
   },
   "outputs": [],
   "source": [
    "#DO NOT DELETE THIS CELL\n"
   ]
  },
  {
   "cell_type": "code",
   "execution_count": null,
   "metadata": {
    "deletable": false,
    "editable": false,
    "nbgrader": {
     "cell_type": "code",
     "checksum": "0bf1b26b70312f73160ed02b31e24fcd",
     "grade": true,
     "grade_id": "negative_test",
     "locked": false,
     "points": 2,
     "schema_version": 3,
     "solution": false
    }
   },
   "outputs": [],
   "source": [
    "#DO NOT DELETE THIS CELL\n"
   ]
  },
  {
   "cell_type": "code",
   "execution_count": null,
   "metadata": {
    "deletable": false,
    "editable": false,
    "nbgrader": {
     "cell_type": "code",
     "checksum": "65257837495907f22adcd3f186a7e4d4",
     "grade": true,
     "grade_id": "zero_test",
     "locked": false,
     "points": 1,
     "schema_version": 3,
     "solution": false
    }
   },
   "outputs": [],
   "source": [
    "#DO NOT DELETE THIS CELL\n"
   ]
  },
  {
   "cell_type": "markdown",
   "metadata": {},
   "source": [
    "### Additional Resources:\n",
    "\n",
    "#### 1. W3Schools Python `If...Else` Statements:\n",
    "\n",
    "This page explains how to use `if...elif...else` statements in Python, which is exactly what the students need for the code snippet.<br>\n",
    "Link: [W3Schools Python If...Else Statements](https://www.w3schools.com/python/python_conditions.asp)\n",
    "\n",
    "#### 2. GeeksforGeeks Python Conditional Statements:\n",
    "\n",
    "GeeksforGeeks offers a concise tutorial on conditional statements in Python, including `if...elif...else`. <br>\n",
    "Link: [GeeksforGeeks Python Conditional Statements](https://www.geeksforgeeks.org/python-programming-language/)\n",
    "\n",
    "#### 3. Python.org Control Flow:\n",
    "Python's official documentation provides information on control flow, including if statements.<br>\n",
    "Link: [Python.org Control Flow](https://docs.python.org/3/tutorial/controlflow.html)"
   ]
  }
 ],
 "metadata": {
  "kernelspec": {
   "display_name": "Python 3 (ipykernel)",
   "language": "python",
   "name": "python3"
  },
  "language_info": {
   "codemirror_mode": {
    "name": "ipython",
    "version": 3
   },
   "file_extension": ".py",
   "mimetype": "text/x-python",
   "name": "python",
   "nbconvert_exporter": "python",
   "pygments_lexer": "ipython3",
   "version": "3.11.5"
  }
 },
 "nbformat": 4,
 "nbformat_minor": 1
}
